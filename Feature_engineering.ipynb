{
 "cells": [
  {
   "cell_type": "code",
   "execution_count": 1,
   "id": "b671c2dd",
   "metadata": {},
   "outputs": [],
   "source": [
    "import pandas as pd\n",
    "import numpy as np\n",
    "from sklearn.impute import SimpleImputer\n",
    "from sklearn.preprocessing import StandardScaler"
   ]
  },
  {
   "cell_type": "code",
   "execution_count": 2,
   "id": "5d6b8d9a",
   "metadata": {},
   "outputs": [
    {
     "name": "stdout",
     "output_type": "stream",
     "text": [
      "Station day shape: (108035, 16)\n",
      "Stations shape: (230, 5)\n"
     ]
    }
   ],
   "source": [
    "station_day = pd.read_csv('station_day.csv\\station_day.csv')\n",
    "stations = pd.read_csv('station_day.csv\\stations.csv')\n",
    "\n",
    "print(\"Station day shape:\", station_day.shape)\n",
    "print(\"Stations shape:\", stations.shape)"
   ]
  },
  {
   "cell_type": "code",
   "execution_count": 3,
   "id": "77709dc6",
   "metadata": {},
   "outputs": [
    {
     "name": "stdout",
     "output_type": "stream",
     "text": [
      "Common columns: {'StationId'}\n",
      "Merged shape: (108035, 16)\n"
     ]
    }
   ],
   "source": [
    "print(\"Common columns:\", set(station_day.columns).intersection(stations.columns))\n",
    "\n",
    "if 'station_id' in station_day.columns and 'station_id' in stations.columns:\n",
    "    data = station_day.merge(stations, on='station_id', how='left')\n",
    "else:\n",
    "    data = station_day.copy()\n",
    "\n",
    "print(\"Merged shape:\", data.shape)"
   ]
  },
  {
   "cell_type": "code",
   "execution_count": 4,
   "id": "f6831cb9",
   "metadata": {},
   "outputs": [],
   "source": [
    "drop_cols = ['StationId', 'StationName', 'state', 'city', 'location', 'Date', 'date']\n",
    "drop_cols = [c for c in drop_cols if c in data.columns]\n",
    "\n",
    "data = data.drop(columns=drop_cols, errors='ignore')"
   ]
  },
  {
   "cell_type": "code",
   "execution_count": 5,
   "id": "8ea4b235",
   "metadata": {},
   "outputs": [
    {
     "data": {
      "text/plain": [
       "(108035, 14)"
      ]
     },
     "execution_count": 5,
     "metadata": {},
     "output_type": "execute_result"
    }
   ],
   "source": [
    "data.shape"
   ]
  },
  {
   "cell_type": "markdown",
   "id": "1c07cfa5",
   "metadata": {},
   "source": [
    "### Handling Missing Values"
   ]
  },
  {
   "cell_type": "code",
   "execution_count": 6,
   "id": "85c62c25",
   "metadata": {},
   "outputs": [
    {
     "name": "stdout",
     "output_type": "stream",
     "text": [
      "\n",
      "Missing value percentages:\n",
      " Xylene        0.788050\n",
      "NH3           0.445272\n",
      "PM10          0.395298\n",
      "Toluene       0.358236\n",
      "Benzene       0.291156\n",
      "O3            0.236664\n",
      "SO2           0.233295\n",
      "PM2.5         0.200167\n",
      "AQI_Bucket    0.194474\n",
      "AQI           0.194474\n",
      "NO            0.158338\n",
      "NO2           0.153163\n",
      "NOx           0.143472\n",
      "CO            0.120313\n",
      "dtype: float64\n",
      "\n",
      "Columns with >70% missing: ['Xylene']\n"
     ]
    }
   ],
   "source": [
    "missing_percent = data.isna().mean().sort_values(ascending=False)\n",
    "print(\"\\nMissing value percentages:\\n\", missing_percent)\n",
    "\n",
    "cols_high_missing = missing_percent[missing_percent > 0.7].index.tolist()\n",
    "print(\"\\nColumns with >70% missing:\", cols_high_missing)"
   ]
  },
  {
   "cell_type": "code",
   "execution_count": 7,
   "id": "7721ffd8",
   "metadata": {},
   "outputs": [],
   "source": [
    "# Create two datasets:\n",
    "#   1. one including xylene (after imputation)\n",
    "#   2. one excluding xylene\n",
    "\n",
    "data_with_xylene = data.copy()\n",
    "data_without_xylene = data.drop(columns=cols_high_missing, errors='ignore')"
   ]
  },
  {
   "cell_type": "code",
   "execution_count": 8,
   "id": "fb0c3287",
   "metadata": {},
   "outputs": [],
   "source": [
    "# Drop AQI bucket to avoid data leakage\n",
    "\n",
    "if 'AQI_Bucket' in data_with_xylene.columns:\n",
    "    data_with_xylene.drop(columns=['AQI_Bucket'], inplace=True)\n",
    "if 'AQI_Bucket' in data_without_xylene.columns:\n",
    "    data_without_xylene.drop(columns=['AQI_Bucket'], inplace=True)"
   ]
  },
  {
   "cell_type": "code",
   "execution_count": 9,
   "id": "79bce415",
   "metadata": {},
   "outputs": [],
   "source": [
    "# numeric columns\n",
    "\n",
    "numeric_cols_with = data_with_xylene.select_dtypes(include=[np.number]).columns\n",
    "numeric_cols_without = data_without_xylene.select_dtypes(include=[np.number]).columns"
   ]
  },
  {
   "cell_type": "code",
   "execution_count": 10,
   "id": "6b776b0a",
   "metadata": {},
   "outputs": [],
   "source": [
    "# SimpleImputer for median filling\n",
    "imputer = SimpleImputer(strategy='median')\n",
    "\n",
    "data_with_xylene[numeric_cols_with] = imputer.fit_transform(data_with_xylene[numeric_cols_with])\n",
    "data_without_xylene[numeric_cols_without] = imputer.fit_transform(data_without_xylene[numeric_cols_without])"
   ]
  },
  {
   "cell_type": "code",
   "execution_count": 11,
   "id": "f97f3fe6",
   "metadata": {},
   "outputs": [],
   "source": [
    "# Handle categorical columns if any i.e., one-hot encoding\n",
    "cat_cols_with = data_with_xylene.select_dtypes(exclude=[np.number]).columns\n",
    "cat_cols_without = data_without_xylene.select_dtypes(exclude=[np.number]).columns\n",
    "\n",
    "if len(cat_cols_with) > 0:\n",
    "    data_with_xylene = pd.get_dummies(data_with_xylene, columns=cat_cols_with, drop_first=True)\n",
    "if len(cat_cols_without) > 0:\n",
    "    data_without_xylene = pd.get_dummies(data_without_xylene, columns=cat_cols_without, drop_first=True)"
   ]
  },
  {
   "cell_type": "markdown",
   "id": "e1cd2e7d",
   "metadata": {},
   "source": [
    "### Scaling"
   ]
  },
  {
   "cell_type": "code",
   "execution_count": 12,
   "id": "f3fd3a7b",
   "metadata": {},
   "outputs": [],
   "source": [
    "if 'AQI' not in data_with_xylene.columns:\n",
    "    raise ValueError(\"❌ 'AQI' column not found!\")\n",
    "\n",
    "X_with = data_with_xylene.drop(columns=['AQI'])\n",
    "y_with = data_with_xylene['AQI']\n",
    "\n",
    "X_without = data_without_xylene.drop(columns=['AQI'])\n",
    "y_without = data_without_xylene['AQI']"
   ]
  },
  {
   "cell_type": "code",
   "execution_count": 13,
   "id": "bb9971cd",
   "metadata": {},
   "outputs": [],
   "source": [
    "# Standardize features\n",
    "scaler_with = StandardScaler()\n",
    "scaler_without = StandardScaler()\n",
    "\n",
    "X_with_scaled = pd.DataFrame(\n",
    "    scaler_with.fit_transform(X_with),\n",
    "    columns=X_with.columns\n",
    ")\n",
    "\n",
    "X_without_scaled = pd.DataFrame(\n",
    "    scaler_without.fit_transform(X_without),\n",
    "    columns=X_without.columns\n",
    ")"
   ]
  },
  {
   "cell_type": "code",
   "execution_count": 14,
   "id": "bcfe18bb",
   "metadata": {},
   "outputs": [
    {
     "name": "stdout",
     "output_type": "stream",
     "text": [
      "✅ Scalers saved: scaler_with.pkl, scaler_without.pkl\n"
     ]
    }
   ],
   "source": [
    "import pickle\n",
    "\n",
    "# Save the scalers\n",
    "pickle.dump(scaler_with, open(\"scaler_with.pkl\", \"wb\"))\n",
    "pickle.dump(scaler_without, open(\"scaler_without.pkl\", \"wb\"))\n",
    "print(\"✅ Scalers saved: scaler_with.pkl, scaler_without.pkl\")"
   ]
  },
  {
   "cell_type": "code",
   "execution_count": 60,
   "id": "221bc3e1",
   "metadata": {},
   "outputs": [],
   "source": [
    "X_with_scaled['AQI'] = y_with.values\n",
    "X_without_scaled['AQI'] = y_without.values\n",
    "\n",
    "X_with_scaled.to_csv(\"cleaned_with_xylene.csv\", index=False)\n",
    "X_without_scaled.to_csv(\"cleaned_without_xylene.csv\", index=False)"
   ]
  },
  {
   "cell_type": "code",
   "execution_count": 61,
   "id": "9511811d",
   "metadata": {},
   "outputs": [
    {
     "name": "stdout",
     "output_type": "stream",
     "text": [
      "\n",
      "✅ Feature Engineering Completed Successfully!\n",
      "With Xylene: (108035, 13)\n",
      "Without Xylene: (108035, 12)\n",
      "Files saved as: cleaned_with_xylene.csv & cleaned_without_xylene.csv\n"
     ]
    }
   ],
   "source": [
    "print(\"\\n✅ Feature Engineering Completed Successfully!\")\n",
    "print(\"With Xylene:\", X_with_scaled.shape)\n",
    "print(\"Without Xylene:\", X_without_scaled.shape)\n",
    "print(\"Files saved as: cleaned_with_xylene.csv & cleaned_without_xylene.csv\")"
   ]
  },
  {
   "cell_type": "code",
   "execution_count": 15,
   "id": "2795487d",
   "metadata": {},
   "outputs": [
    {
     "data": {
      "text/html": [
       "<div>\n",
       "<style scoped>\n",
       "    .dataframe tbody tr th:only-of-type {\n",
       "        vertical-align: middle;\n",
       "    }\n",
       "\n",
       "    .dataframe tbody tr th {\n",
       "        vertical-align: top;\n",
       "    }\n",
       "\n",
       "    .dataframe thead th {\n",
       "        text-align: right;\n",
       "    }\n",
       "</style>\n",
       "<table border=\"1\" class=\"dataframe\">\n",
       "  <thead>\n",
       "    <tr style=\"text-align: right;\">\n",
       "      <th></th>\n",
       "      <th>PM2.5</th>\n",
       "      <th>PM10</th>\n",
       "      <th>NO</th>\n",
       "      <th>NO2</th>\n",
       "      <th>NOx</th>\n",
       "      <th>NH3</th>\n",
       "      <th>CO</th>\n",
       "      <th>SO2</th>\n",
       "      <th>O3</th>\n",
       "      <th>Benzene</th>\n",
       "      <th>Toluene</th>\n",
       "      <th>AQI</th>\n",
       "    </tr>\n",
       "  </thead>\n",
       "  <tbody>\n",
       "    <tr>\n",
       "      <th>count</th>\n",
       "      <td>1.080350e+05</td>\n",
       "      <td>1.080350e+05</td>\n",
       "      <td>1.080350e+05</td>\n",
       "      <td>1.080350e+05</td>\n",
       "      <td>1.080350e+05</td>\n",
       "      <td>1.080350e+05</td>\n",
       "      <td>1.080350e+05</td>\n",
       "      <td>1.080350e+05</td>\n",
       "      <td>1.080350e+05</td>\n",
       "      <td>1.080350e+05</td>\n",
       "      <td>1.080350e+05</td>\n",
       "      <td>108035.000000</td>\n",
       "    </tr>\n",
       "    <tr>\n",
       "      <th>mean</th>\n",
       "      <td>7.050510e-17</td>\n",
       "      <td>2.020445e-16</td>\n",
       "      <td>-1.841551e-17</td>\n",
       "      <td>-1.210162e-17</td>\n",
       "      <td>2.315093e-17</td>\n",
       "      <td>1.515333e-16</td>\n",
       "      <td>9.418218e-17</td>\n",
       "      <td>1.667919e-16</td>\n",
       "      <td>2.809681e-16</td>\n",
       "      <td>1.578472e-17</td>\n",
       "      <td>1.042449e-16</td>\n",
       "      <td>170.463294</td>\n",
       "    </tr>\n",
       "    <tr>\n",
       "      <th>std</th>\n",
       "      <td>1.000005e+00</td>\n",
       "      <td>1.000005e+00</td>\n",
       "      <td>1.000005e+00</td>\n",
       "      <td>1.000005e+00</td>\n",
       "      <td>1.000005e+00</td>\n",
       "      <td>1.000005e+00</td>\n",
       "      <td>1.000005e+00</td>\n",
       "      <td>1.000005e+00</td>\n",
       "      <td>1.000005e+00</td>\n",
       "      <td>1.000005e+00</td>\n",
       "      <td>1.000005e+00</td>\n",
       "      <td>119.370472</td>\n",
       "    </tr>\n",
       "    <tr>\n",
       "      <th>min</th>\n",
       "      <td>-1.090495e+00</td>\n",
       "      <td>-1.473675e+00</td>\n",
       "      <td>-6.590500e-01</td>\n",
       "      <td>-1.244974e+00</td>\n",
       "      <td>-9.291615e-01</td>\n",
       "      <td>-1.412085e+00</td>\n",
       "      <td>-3.708206e-01</td>\n",
       "      <td>-1.001804e+00</td>\n",
       "      <td>-1.060378e+00</td>\n",
       "      <td>-2.893726e-01</td>\n",
       "      <td>-4.730584e-01</td>\n",
       "      <td>8.000000</td>\n",
       "    </tr>\n",
       "    <tr>\n",
       "      <th>25%</th>\n",
       "      <td>-5.493268e-01</td>\n",
       "      <td>-4.219414e-01</td>\n",
       "      <td>-4.789801e-01</td>\n",
       "      <td>-6.192053e-01</td>\n",
       "      <td>-5.504615e-01</td>\n",
       "      <td>-2.768780e-01</td>\n",
       "      <td>-2.270768e-01</td>\n",
       "      <td>-4.649354e-01</td>\n",
       "      <td>-4.028565e-01</td>\n",
       "      <td>-2.427785e-01</td>\n",
       "      <td>-3.846657e-01</td>\n",
       "      <td>96.000000</td>\n",
       "    </tr>\n",
       "    <tr>\n",
       "      <th>50%</th>\n",
       "      <td>-2.814190e-01</td>\n",
       "      <td>-2.223776e-01</td>\n",
       "      <td>-3.376752e-01</td>\n",
       "      <td>-2.490166e-01</td>\n",
       "      <td>-2.957775e-01</td>\n",
       "      <td>-1.524059e-01</td>\n",
       "      <td>-1.491140e-01</td>\n",
       "      <td>-2.213803e-01</td>\n",
       "      <td>-1.622218e-01</td>\n",
       "      <td>-1.612388e-01</td>\n",
       "      <td>-2.933680e-01</td>\n",
       "      <td>132.000000</td>\n",
       "    </tr>\n",
       "    <tr>\n",
       "      <th>75%</th>\n",
       "      <td>1.213830e-01</td>\n",
       "      <td>1.198446e-02</td>\n",
       "      <td>-1.098585e-02</td>\n",
       "      <td>3.013233e-01</td>\n",
       "      <td>1.408915e-01</td>\n",
       "      <td>-2.366011e-02</td>\n",
       "      <td>-4.191516e-02</td>\n",
       "      <td>9.463030e-02</td>\n",
       "      <td>1.343473e-01</td>\n",
       "      <td>-4.051766e-02</td>\n",
       "      <td>-1.464617e-01</td>\n",
       "      <td>211.000000</td>\n",
       "    </tr>\n",
       "    <tr>\n",
       "      <th>max</th>\n",
       "      <td>1.337508e+01</td>\n",
       "      <td>8.776037e+00</td>\n",
       "      <td>1.403384e+01</td>\n",
       "      <td>1.516050e+01</td>\n",
       "      <td>1.018072e+01</td>\n",
       "      <td>2.096564e+01</td>\n",
       "      <td>4.246242e+01</td>\n",
       "      <td>1.607674e+01</td>\n",
       "      <td>2.699395e+01</td>\n",
       "      <td>4.789636e+01</td>\n",
       "      <td>1.840274e+01</td>\n",
       "      <td>2049.000000</td>\n",
       "    </tr>\n",
       "  </tbody>\n",
       "</table>\n",
       "</div>"
      ],
      "text/plain": [
       "              PM2.5          PM10            NO           NO2           NOx  \\\n",
       "count  1.080350e+05  1.080350e+05  1.080350e+05  1.080350e+05  1.080350e+05   \n",
       "mean   7.050510e-17  2.020445e-16 -1.841551e-17 -1.210162e-17  2.315093e-17   \n",
       "std    1.000005e+00  1.000005e+00  1.000005e+00  1.000005e+00  1.000005e+00   \n",
       "min   -1.090495e+00 -1.473675e+00 -6.590500e-01 -1.244974e+00 -9.291615e-01   \n",
       "25%   -5.493268e-01 -4.219414e-01 -4.789801e-01 -6.192053e-01 -5.504615e-01   \n",
       "50%   -2.814190e-01 -2.223776e-01 -3.376752e-01 -2.490166e-01 -2.957775e-01   \n",
       "75%    1.213830e-01  1.198446e-02 -1.098585e-02  3.013233e-01  1.408915e-01   \n",
       "max    1.337508e+01  8.776037e+00  1.403384e+01  1.516050e+01  1.018072e+01   \n",
       "\n",
       "                NH3            CO           SO2            O3       Benzene  \\\n",
       "count  1.080350e+05  1.080350e+05  1.080350e+05  1.080350e+05  1.080350e+05   \n",
       "mean   1.515333e-16  9.418218e-17  1.667919e-16  2.809681e-16  1.578472e-17   \n",
       "std    1.000005e+00  1.000005e+00  1.000005e+00  1.000005e+00  1.000005e+00   \n",
       "min   -1.412085e+00 -3.708206e-01 -1.001804e+00 -1.060378e+00 -2.893726e-01   \n",
       "25%   -2.768780e-01 -2.270768e-01 -4.649354e-01 -4.028565e-01 -2.427785e-01   \n",
       "50%   -1.524059e-01 -1.491140e-01 -2.213803e-01 -1.622218e-01 -1.612388e-01   \n",
       "75%   -2.366011e-02 -4.191516e-02  9.463030e-02  1.343473e-01 -4.051766e-02   \n",
       "max    2.096564e+01  4.246242e+01  1.607674e+01  2.699395e+01  4.789636e+01   \n",
       "\n",
       "            Toluene            AQI  \n",
       "count  1.080350e+05  108035.000000  \n",
       "mean   1.042449e-16     170.463294  \n",
       "std    1.000005e+00     119.370472  \n",
       "min   -4.730584e-01       8.000000  \n",
       "25%   -3.846657e-01      96.000000  \n",
       "50%   -2.933680e-01     132.000000  \n",
       "75%   -1.464617e-01     211.000000  \n",
       "max    1.840274e+01    2049.000000  "
      ]
     },
     "execution_count": 15,
     "metadata": {},
     "output_type": "execute_result"
    }
   ],
   "source": [
    "df = pd.read_csv(\"cleaned_without_xylene.csv\")\n",
    "df.describe()"
   ]
  },
  {
   "cell_type": "code",
   "execution_count": null,
   "id": "70993882",
   "metadata": {},
   "outputs": [],
   "source": []
  }
 ],
 "metadata": {
  "kernelspec": {
   "display_name": "base",
   "language": "python",
   "name": "python3"
  },
  "language_info": {
   "codemirror_mode": {
    "name": "ipython",
    "version": 3
   },
   "file_extension": ".py",
   "mimetype": "text/x-python",
   "name": "python",
   "nbconvert_exporter": "python",
   "pygments_lexer": "ipython3",
   "version": "3.13.5"
  }
 },
 "nbformat": 4,
 "nbformat_minor": 5
}
