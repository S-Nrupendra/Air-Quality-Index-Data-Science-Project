{
 "cells": [
  {
   "cell_type": "code",
   "execution_count": 1,
   "id": "2f814789",
   "metadata": {},
   "outputs": [],
   "source": [
    "import pandas as pd\n",
    "import numpy as np\n",
    "import matplotlib.pyplot as plt"
   ]
  },
  {
   "cell_type": "code",
   "execution_count": 2,
   "id": "b12014e6",
   "metadata": {},
   "outputs": [
    {
     "data": {
      "text/html": [
       "<div>\n",
       "<style scoped>\n",
       "    .dataframe tbody tr th:only-of-type {\n",
       "        vertical-align: middle;\n",
       "    }\n",
       "\n",
       "    .dataframe tbody tr th {\n",
       "        vertical-align: top;\n",
       "    }\n",
       "\n",
       "    .dataframe thead th {\n",
       "        text-align: right;\n",
       "    }\n",
       "</style>\n",
       "<table border=\"1\" class=\"dataframe\">\n",
       "  <thead>\n",
       "    <tr style=\"text-align: right;\">\n",
       "      <th></th>\n",
       "      <th>StationId</th>\n",
       "      <th>Date</th>\n",
       "      <th>PM2.5</th>\n",
       "      <th>PM10</th>\n",
       "      <th>NO</th>\n",
       "      <th>NO2</th>\n",
       "      <th>NOx</th>\n",
       "      <th>NH3</th>\n",
       "      <th>CO</th>\n",
       "      <th>SO2</th>\n",
       "      <th>O3</th>\n",
       "      <th>Benzene</th>\n",
       "      <th>Toluene</th>\n",
       "      <th>Xylene</th>\n",
       "      <th>AQI</th>\n",
       "      <th>AQI_Bucket</th>\n",
       "    </tr>\n",
       "  </thead>\n",
       "  <tbody>\n",
       "    <tr>\n",
       "      <th>0</th>\n",
       "      <td>AP001</td>\n",
       "      <td>2017-11-24</td>\n",
       "      <td>71.36</td>\n",
       "      <td>115.75</td>\n",
       "      <td>1.75</td>\n",
       "      <td>20.65</td>\n",
       "      <td>12.40</td>\n",
       "      <td>12.19</td>\n",
       "      <td>0.10</td>\n",
       "      <td>10.76</td>\n",
       "      <td>109.26</td>\n",
       "      <td>0.17</td>\n",
       "      <td>5.92</td>\n",
       "      <td>0.10</td>\n",
       "      <td>NaN</td>\n",
       "      <td>NaN</td>\n",
       "    </tr>\n",
       "    <tr>\n",
       "      <th>1</th>\n",
       "      <td>AP001</td>\n",
       "      <td>2017-11-25</td>\n",
       "      <td>81.40</td>\n",
       "      <td>124.50</td>\n",
       "      <td>1.44</td>\n",
       "      <td>20.50</td>\n",
       "      <td>12.08</td>\n",
       "      <td>10.72</td>\n",
       "      <td>0.12</td>\n",
       "      <td>15.24</td>\n",
       "      <td>127.09</td>\n",
       "      <td>0.20</td>\n",
       "      <td>6.50</td>\n",
       "      <td>0.06</td>\n",
       "      <td>184.0</td>\n",
       "      <td>Moderate</td>\n",
       "    </tr>\n",
       "    <tr>\n",
       "      <th>2</th>\n",
       "      <td>AP001</td>\n",
       "      <td>2017-11-26</td>\n",
       "      <td>78.32</td>\n",
       "      <td>129.06</td>\n",
       "      <td>1.26</td>\n",
       "      <td>26.00</td>\n",
       "      <td>14.85</td>\n",
       "      <td>10.28</td>\n",
       "      <td>0.14</td>\n",
       "      <td>26.96</td>\n",
       "      <td>117.44</td>\n",
       "      <td>0.22</td>\n",
       "      <td>7.95</td>\n",
       "      <td>0.08</td>\n",
       "      <td>197.0</td>\n",
       "      <td>Moderate</td>\n",
       "    </tr>\n",
       "    <tr>\n",
       "      <th>3</th>\n",
       "      <td>AP001</td>\n",
       "      <td>2017-11-27</td>\n",
       "      <td>88.76</td>\n",
       "      <td>135.32</td>\n",
       "      <td>6.60</td>\n",
       "      <td>30.85</td>\n",
       "      <td>21.77</td>\n",
       "      <td>12.91</td>\n",
       "      <td>0.11</td>\n",
       "      <td>33.59</td>\n",
       "      <td>111.81</td>\n",
       "      <td>0.29</td>\n",
       "      <td>7.63</td>\n",
       "      <td>0.12</td>\n",
       "      <td>198.0</td>\n",
       "      <td>Moderate</td>\n",
       "    </tr>\n",
       "    <tr>\n",
       "      <th>4</th>\n",
       "      <td>AP001</td>\n",
       "      <td>2017-11-28</td>\n",
       "      <td>64.18</td>\n",
       "      <td>104.09</td>\n",
       "      <td>2.56</td>\n",
       "      <td>28.07</td>\n",
       "      <td>17.01</td>\n",
       "      <td>11.42</td>\n",
       "      <td>0.09</td>\n",
       "      <td>19.00</td>\n",
       "      <td>138.18</td>\n",
       "      <td>0.17</td>\n",
       "      <td>5.02</td>\n",
       "      <td>0.07</td>\n",
       "      <td>188.0</td>\n",
       "      <td>Moderate</td>\n",
       "    </tr>\n",
       "    <tr>\n",
       "      <th>5</th>\n",
       "      <td>AP001</td>\n",
       "      <td>2017-11-29</td>\n",
       "      <td>72.47</td>\n",
       "      <td>114.84</td>\n",
       "      <td>5.23</td>\n",
       "      <td>23.20</td>\n",
       "      <td>16.59</td>\n",
       "      <td>12.25</td>\n",
       "      <td>0.16</td>\n",
       "      <td>10.55</td>\n",
       "      <td>109.74</td>\n",
       "      <td>0.21</td>\n",
       "      <td>4.71</td>\n",
       "      <td>0.08</td>\n",
       "      <td>173.0</td>\n",
       "      <td>Moderate</td>\n",
       "    </tr>\n",
       "    <tr>\n",
       "      <th>6</th>\n",
       "      <td>AP001</td>\n",
       "      <td>2017-11-30</td>\n",
       "      <td>69.80</td>\n",
       "      <td>114.86</td>\n",
       "      <td>4.69</td>\n",
       "      <td>20.17</td>\n",
       "      <td>14.54</td>\n",
       "      <td>10.95</td>\n",
       "      <td>0.12</td>\n",
       "      <td>14.07</td>\n",
       "      <td>118.09</td>\n",
       "      <td>0.16</td>\n",
       "      <td>3.52</td>\n",
       "      <td>0.06</td>\n",
       "      <td>165.0</td>\n",
       "      <td>Moderate</td>\n",
       "    </tr>\n",
       "    <tr>\n",
       "      <th>7</th>\n",
       "      <td>AP001</td>\n",
       "      <td>2017-12-01</td>\n",
       "      <td>73.96</td>\n",
       "      <td>113.56</td>\n",
       "      <td>4.58</td>\n",
       "      <td>19.29</td>\n",
       "      <td>13.97</td>\n",
       "      <td>10.95</td>\n",
       "      <td>0.10</td>\n",
       "      <td>13.90</td>\n",
       "      <td>123.80</td>\n",
       "      <td>0.17</td>\n",
       "      <td>2.85</td>\n",
       "      <td>0.04</td>\n",
       "      <td>191.0</td>\n",
       "      <td>Moderate</td>\n",
       "    </tr>\n",
       "    <tr>\n",
       "      <th>8</th>\n",
       "      <td>AP001</td>\n",
       "      <td>2017-12-02</td>\n",
       "      <td>89.90</td>\n",
       "      <td>140.20</td>\n",
       "      <td>7.71</td>\n",
       "      <td>26.19</td>\n",
       "      <td>19.87</td>\n",
       "      <td>13.12</td>\n",
       "      <td>0.10</td>\n",
       "      <td>19.37</td>\n",
       "      <td>128.73</td>\n",
       "      <td>0.25</td>\n",
       "      <td>2.79</td>\n",
       "      <td>0.07</td>\n",
       "      <td>191.0</td>\n",
       "      <td>Moderate</td>\n",
       "    </tr>\n",
       "    <tr>\n",
       "      <th>9</th>\n",
       "      <td>AP001</td>\n",
       "      <td>2017-12-03</td>\n",
       "      <td>87.14</td>\n",
       "      <td>130.52</td>\n",
       "      <td>0.97</td>\n",
       "      <td>21.31</td>\n",
       "      <td>12.12</td>\n",
       "      <td>14.36</td>\n",
       "      <td>0.15</td>\n",
       "      <td>11.41</td>\n",
       "      <td>114.80</td>\n",
       "      <td>0.23</td>\n",
       "      <td>3.82</td>\n",
       "      <td>0.04</td>\n",
       "      <td>227.0</td>\n",
       "      <td>Poor</td>\n",
       "    </tr>\n",
       "  </tbody>\n",
       "</table>\n",
       "</div>"
      ],
      "text/plain": [
       "  StationId        Date  PM2.5    PM10    NO    NO2    NOx    NH3    CO  \\\n",
       "0     AP001  2017-11-24  71.36  115.75  1.75  20.65  12.40  12.19  0.10   \n",
       "1     AP001  2017-11-25  81.40  124.50  1.44  20.50  12.08  10.72  0.12   \n",
       "2     AP001  2017-11-26  78.32  129.06  1.26  26.00  14.85  10.28  0.14   \n",
       "3     AP001  2017-11-27  88.76  135.32  6.60  30.85  21.77  12.91  0.11   \n",
       "4     AP001  2017-11-28  64.18  104.09  2.56  28.07  17.01  11.42  0.09   \n",
       "5     AP001  2017-11-29  72.47  114.84  5.23  23.20  16.59  12.25  0.16   \n",
       "6     AP001  2017-11-30  69.80  114.86  4.69  20.17  14.54  10.95  0.12   \n",
       "7     AP001  2017-12-01  73.96  113.56  4.58  19.29  13.97  10.95  0.10   \n",
       "8     AP001  2017-12-02  89.90  140.20  7.71  26.19  19.87  13.12  0.10   \n",
       "9     AP001  2017-12-03  87.14  130.52  0.97  21.31  12.12  14.36  0.15   \n",
       "\n",
       "     SO2      O3  Benzene  Toluene  Xylene    AQI AQI_Bucket  \n",
       "0  10.76  109.26     0.17     5.92    0.10    NaN        NaN  \n",
       "1  15.24  127.09     0.20     6.50    0.06  184.0   Moderate  \n",
       "2  26.96  117.44     0.22     7.95    0.08  197.0   Moderate  \n",
       "3  33.59  111.81     0.29     7.63    0.12  198.0   Moderate  \n",
       "4  19.00  138.18     0.17     5.02    0.07  188.0   Moderate  \n",
       "5  10.55  109.74     0.21     4.71    0.08  173.0   Moderate  \n",
       "6  14.07  118.09     0.16     3.52    0.06  165.0   Moderate  \n",
       "7  13.90  123.80     0.17     2.85    0.04  191.0   Moderate  \n",
       "8  19.37  128.73     0.25     2.79    0.07  191.0   Moderate  \n",
       "9  11.41  114.80     0.23     3.82    0.04  227.0       Poor  "
      ]
     },
     "execution_count": 2,
     "metadata": {},
     "output_type": "execute_result"
    }
   ],
   "source": [
    "df = pd.read_csv('station_day.csv\\station_day.csv')\n",
    "st = pd.read_csv('station_day.csv\\stations.csv')\n",
    "\n",
    "df.head(10)"
   ]
  },
  {
   "cell_type": "code",
   "execution_count": 9,
   "id": "e8a8016c",
   "metadata": {},
   "outputs": [
    {
     "data": {
      "text/plain": [
       "(108035, 16)"
      ]
     },
     "execution_count": 9,
     "metadata": {},
     "output_type": "execute_result"
    }
   ],
   "source": [
    "df.shape"
   ]
  },
  {
   "cell_type": "markdown",
   "id": "7b54e63b",
   "metadata": {},
   "source": [
    "- **PM2.5**: Particulate Matter 2.5-micrometer (µg/m³)  \n",
    "- **PM10**: Particulate Matter 10-micrometer (µg/m³)  \n",
    "- **NO**: Nitric Oxide (µg/m³)  \n",
    "- **NO₂**: Nitric Dioxide (µg/m³)  \n",
    "- **NOₓ**: Any Nitric x-oxide (ppb)  \n",
    "- **NH₃**: Ammonia (µg/m³)  \n",
    "- **CO**: Carbon Monoxide (µg/m³)  \n",
    "- **SO₂**: Sulphur Dioxide (µg/m³)  \n",
    "- **O₃**: Ozone (µg/m³)  \n",
    "- **Benzene**: Benzene (µg/m³)  \n",
    "- **Toluene**: Toluene (µg/m³)  \n",
    "- **Xylene**: Xylene (µg/m³)"
   ]
  },
  {
   "cell_type": "code",
   "execution_count": 11,
   "id": "49f86e9b",
   "metadata": {},
   "outputs": [
    {
     "data": {
      "text/plain": [
       "array(['AP001', 'AP005', 'AS001', 'BR005', 'BR006', 'BR007', 'BR008',\n",
       "       'BR009', 'BR010', 'CH001', 'DL001', 'DL002', 'DL003', 'DL004',\n",
       "       'DL005', 'DL006', 'DL007', 'DL008', 'DL009', 'DL010', 'DL011',\n",
       "       'DL012', 'DL013', 'DL014', 'DL015', 'DL016', 'DL017', 'DL018',\n",
       "       'DL019', 'DL020', 'DL021', 'DL022', 'DL023', 'DL024', 'DL025',\n",
       "       'DL026', 'DL027', 'DL028', 'DL029', 'DL030', 'DL031', 'DL032',\n",
       "       'DL033', 'DL034', 'DL035', 'DL036', 'DL037', 'DL038', 'GJ001',\n",
       "       'HR011', 'HR012', 'HR013', 'HR014', 'JH001', 'KA002', 'KA003',\n",
       "       'KA004', 'KA005', 'KA006', 'KA007', 'KA008', 'KA009', 'KA010',\n",
       "       'KA011', 'KL002', 'KL004', 'KL007', 'KL008', 'MH005', 'MH006',\n",
       "       'MH007', 'MH008', 'MH009', 'MH010', 'MH011', 'MH012', 'MH013',\n",
       "       'MH014', 'ML001', 'MP001', 'MZ001', 'OD001', 'OD002', 'PB001',\n",
       "       'RJ004', 'RJ005', 'RJ006', 'TG001', 'TG002', 'TG003', 'TG004',\n",
       "       'TG005', 'TG006', 'TN001', 'TN002', 'TN003', 'TN004', 'TN005',\n",
       "       'UP012', 'UP013', 'UP014', 'UP015', 'UP016', 'WB007', 'WB008',\n",
       "       'WB009', 'WB010', 'WB011', 'WB012', 'WB013'], dtype=object)"
      ]
     },
     "execution_count": 11,
     "metadata": {},
     "output_type": "execute_result"
    }
   ],
   "source": [
    "df['StationId'].unique()"
   ]
  },
  {
   "cell_type": "code",
   "execution_count": 6,
   "id": "b2d484a6",
   "metadata": {},
   "outputs": [
    {
     "data": {
      "text/plain": [
       "(110,)"
      ]
     },
     "execution_count": 6,
     "metadata": {},
     "output_type": "execute_result"
    }
   ],
   "source": [
    "df['StationId'].unique().shape"
   ]
  },
  {
   "cell_type": "code",
   "execution_count": 7,
   "id": "9b325548",
   "metadata": {},
   "outputs": [
    {
     "data": {
      "text/html": [
       "<div>\n",
       "<style scoped>\n",
       "    .dataframe tbody tr th:only-of-type {\n",
       "        vertical-align: middle;\n",
       "    }\n",
       "\n",
       "    .dataframe tbody tr th {\n",
       "        vertical-align: top;\n",
       "    }\n",
       "\n",
       "    .dataframe thead th {\n",
       "        text-align: right;\n",
       "    }\n",
       "</style>\n",
       "<table border=\"1\" class=\"dataframe\">\n",
       "  <thead>\n",
       "    <tr style=\"text-align: right;\">\n",
       "      <th></th>\n",
       "      <th>StationId</th>\n",
       "      <th>StationName</th>\n",
       "      <th>City</th>\n",
       "      <th>State</th>\n",
       "      <th>Status</th>\n",
       "    </tr>\n",
       "  </thead>\n",
       "  <tbody>\n",
       "    <tr>\n",
       "      <th>0</th>\n",
       "      <td>AP001</td>\n",
       "      <td>Secretariat, Amaravati - APPCB</td>\n",
       "      <td>Amaravati</td>\n",
       "      <td>Andhra Pradesh</td>\n",
       "      <td>Active</td>\n",
       "    </tr>\n",
       "    <tr>\n",
       "      <th>1</th>\n",
       "      <td>AP002</td>\n",
       "      <td>Anand Kala Kshetram, Rajamahendravaram - APPCB</td>\n",
       "      <td>Rajamahendravaram</td>\n",
       "      <td>Andhra Pradesh</td>\n",
       "      <td>NaN</td>\n",
       "    </tr>\n",
       "    <tr>\n",
       "      <th>2</th>\n",
       "      <td>AP003</td>\n",
       "      <td>Tirumala, Tirupati - APPCB</td>\n",
       "      <td>Tirupati</td>\n",
       "      <td>Andhra Pradesh</td>\n",
       "      <td>NaN</td>\n",
       "    </tr>\n",
       "    <tr>\n",
       "      <th>3</th>\n",
       "      <td>AP004</td>\n",
       "      <td>PWD Grounds, Vijayawada - APPCB</td>\n",
       "      <td>Vijayawada</td>\n",
       "      <td>Andhra Pradesh</td>\n",
       "      <td>NaN</td>\n",
       "    </tr>\n",
       "    <tr>\n",
       "      <th>4</th>\n",
       "      <td>AP005</td>\n",
       "      <td>GVM Corporation, Visakhapatnam - APPCB</td>\n",
       "      <td>Visakhapatnam</td>\n",
       "      <td>Andhra Pradesh</td>\n",
       "      <td>Active</td>\n",
       "    </tr>\n",
       "    <tr>\n",
       "      <th>5</th>\n",
       "      <td>AS001</td>\n",
       "      <td>Railway Colony, Guwahati - APCB</td>\n",
       "      <td>Guwahati</td>\n",
       "      <td>Assam</td>\n",
       "      <td>Active</td>\n",
       "    </tr>\n",
       "    <tr>\n",
       "      <th>6</th>\n",
       "      <td>BR001</td>\n",
       "      <td>Collectorate, Gaya - BSPCB</td>\n",
       "      <td>Gaya</td>\n",
       "      <td>Bihar</td>\n",
       "      <td>NaN</td>\n",
       "    </tr>\n",
       "    <tr>\n",
       "      <th>7</th>\n",
       "      <td>BR002</td>\n",
       "      <td>SFTI Kusdihra, Gaya - BSPCB</td>\n",
       "      <td>Gaya</td>\n",
       "      <td>Bihar</td>\n",
       "      <td>NaN</td>\n",
       "    </tr>\n",
       "    <tr>\n",
       "      <th>8</th>\n",
       "      <td>BR003</td>\n",
       "      <td>Industrial Area, Hajipur - BSPCB</td>\n",
       "      <td>Hajipur</td>\n",
       "      <td>Bihar</td>\n",
       "      <td>NaN</td>\n",
       "    </tr>\n",
       "    <tr>\n",
       "      <th>9</th>\n",
       "      <td>BR004</td>\n",
       "      <td>Muzaffarpur Collectorate, Muzaffarpur - BSPCB</td>\n",
       "      <td>Muzaffarpur</td>\n",
       "      <td>Bihar</td>\n",
       "      <td>NaN</td>\n",
       "    </tr>\n",
       "  </tbody>\n",
       "</table>\n",
       "</div>"
      ],
      "text/plain": [
       "  StationId                                     StationName  \\\n",
       "0     AP001                  Secretariat, Amaravati - APPCB   \n",
       "1     AP002  Anand Kala Kshetram, Rajamahendravaram - APPCB   \n",
       "2     AP003                      Tirumala, Tirupati - APPCB   \n",
       "3     AP004                 PWD Grounds, Vijayawada - APPCB   \n",
       "4     AP005          GVM Corporation, Visakhapatnam - APPCB   \n",
       "5     AS001                 Railway Colony, Guwahati - APCB   \n",
       "6     BR001                      Collectorate, Gaya - BSPCB   \n",
       "7     BR002                     SFTI Kusdihra, Gaya - BSPCB   \n",
       "8     BR003                Industrial Area, Hajipur - BSPCB   \n",
       "9     BR004   Muzaffarpur Collectorate, Muzaffarpur - BSPCB   \n",
       "\n",
       "                City           State  Status  \n",
       "0          Amaravati  Andhra Pradesh  Active  \n",
       "1  Rajamahendravaram  Andhra Pradesh     NaN  \n",
       "2           Tirupati  Andhra Pradesh     NaN  \n",
       "3         Vijayawada  Andhra Pradesh     NaN  \n",
       "4      Visakhapatnam  Andhra Pradesh  Active  \n",
       "5           Guwahati           Assam  Active  \n",
       "6               Gaya           Bihar     NaN  \n",
       "7               Gaya           Bihar     NaN  \n",
       "8            Hajipur           Bihar     NaN  \n",
       "9        Muzaffarpur           Bihar     NaN  "
      ]
     },
     "execution_count": 7,
     "metadata": {},
     "output_type": "execute_result"
    }
   ],
   "source": [
    "st.head(10)"
   ]
  },
  {
   "cell_type": "code",
   "execution_count": 8,
   "id": "57225d70",
   "metadata": {},
   "outputs": [
    {
     "data": {
      "text/plain": [
       "(230,)"
      ]
     },
     "execution_count": 8,
     "metadata": {},
     "output_type": "execute_result"
    }
   ],
   "source": [
    "st['StationId'].unique().shape"
   ]
  },
  {
   "cell_type": "code",
   "execution_count": 15,
   "id": "4effe9dd",
   "metadata": {},
   "outputs": [
    {
     "data": {
      "text/plain": [
       "State\n",
       "Delhi             38\n",
       "Maharashtra       10\n",
       "Karnataka         10\n",
       "West Bengal        7\n",
       "Bihar              6\n",
       "Telangana          6\n",
       "Tamil Nadu         5\n",
       "Uttar Pradesh      5\n",
       "Kerala             4\n",
       "Haryana            4\n",
       "Rajasthan          3\n",
       "Andhra Pradesh     2\n",
       "Odisha             2\n",
       "Chandigarh         1\n",
       "Assam              1\n",
       "Gujarat            1\n",
       "Jharkhand          1\n",
       "Meghalaya          1\n",
       "Madhya Pradesh     1\n",
       "Punjab             1\n",
       "Mizoram            1\n",
       "Name: count, dtype: int64"
      ]
     },
     "execution_count": 15,
     "metadata": {},
     "output_type": "execute_result"
    }
   ],
   "source": [
    "# Count unique StationIds present in df per State (using st)\n",
    "stations_in_df = df['StationId'].dropna().unique()\n",
    "merged = st[st['StationId'].isin(stations_in_df)].copy()\n",
    "\n",
    "# If some StationIds in df are not present in st, mark them as 'Unknown'\n",
    "missing = set(stations_in_df) - set(merged['StationId'])\n",
    "if missing:\n",
    "    merged = pd.concat([\n",
    "        merged,\n",
    "        pd.DataFrame({\n",
    "            'StationId': list(missing),\n",
    "            'StationName': [None] * len(missing),\n",
    "            'City': [None] * len(missing),\n",
    "            'State': ['Unknown'] * len(missing),\n",
    "            'Status': [None] * len(missing)\n",
    "        })\n",
    "    ], ignore_index=True)\n",
    "\n",
    "# show counts instead of relying only on the plot below\n",
    "merged['State'] = merged['State'].fillna('Unknown')\n",
    "counts = merged['State'].value_counts().sort_values(ascending=False)\n",
    "counts"
   ]
  },
  {
   "cell_type": "code",
   "execution_count": 16,
   "id": "4d52c4cb",
   "metadata": {},
   "outputs": [
    {
     "data": {
      "text/plain": [
       "StationId      0.000000\n",
       "Date           0.000000\n",
       "PM2.5         20.016661\n",
       "PM10          39.529782\n",
       "NO            15.833758\n",
       "NO2           15.316333\n",
       "NOx           14.347202\n",
       "NH3           44.527237\n",
       "CO            12.031286\n",
       "SO2           23.329477\n",
       "O3            23.666404\n",
       "Benzene       29.115564\n",
       "Toluene       35.823576\n",
       "Xylene        78.805017\n",
       "AQI           19.447401\n",
       "AQI_Bucket    19.447401\n",
       "dtype: float64"
      ]
     },
     "execution_count": 16,
     "metadata": {},
     "output_type": "execute_result"
    }
   ],
   "source": [
    "(df.isnull().sum() / len(df)) * 100"
   ]
  },
  {
   "cell_type": "code",
   "execution_count": 17,
   "id": "6d76dde6",
   "metadata": {},
   "outputs": [
    {
     "data": {
      "text/plain": [
       "<Axes: xlabel='AQI_Bucket'>"
      ]
     },
     "execution_count": 17,
     "metadata": {},
     "output_type": "execute_result"
    },
    {
     "data": {
      "image/png": "[encoded data removed]",
      "text/plain": [
       "<Figure size 1000x500 with 1 Axes>"
      ]
     },
     "metadata": {},
     "output_type": "display_data"
    }
   ],
   "source": [
    "df['AQI_Bucket'].value_counts().plot(kind='bar', figsize=(10,5))"
   ]
  },
  {
   "cell_type": "code",
   "execution_count": 22,
   "id": "3f73a248",
   "metadata": {},
   "outputs": [
    {
     "data": {
      "text/plain": [
       "<Axes: ylabel='Frequency'>"
      ]
     },
     "execution_count": 22,
     "metadata": {},
     "output_type": "execute_result"
    },
    {
     "data": {
      "image/png": "[encoded data removed]",
      "text/plain": [
       "<Figure size 1000x500 with 1 Axes>"
      ]
     },
     "metadata": {},
     "output_type": "display_data"
    }
   ],
   "source": [
    "df['AQI'].value_counts().plot(kind='hist', figsize=(10,5))"
   ]
  },
  {
   "cell_type": "code",
   "execution_count": 24,
   "id": "bf6f6089",
   "metadata": {},
   "outputs": [
    {
     "name": "stderr",
     "output_type": "stream",
     "text": [
      "C:\\Users\\snrup\\AppData\\Local\\Temp\\ipykernel_8436\\1256715175.py:8: FutureWarning: \n",
      "\n",
      "Passing `palette` without assigning `hue` is deprecated and will be removed in v0.14.0. Assign the `x` variable to `hue` and set `legend=False` for the same effect.\n",
      "\n",
      "  sns.boxplot(x='AQI_Bucket', y='AQI', data=df, palette='Set2')\n"
     ]
    },
    {
     "data": {
      "image/png": "[encoded data removed]",
      "text/plain": [
       "<Figure size 1000x600 with 1 Axes>"
      ]
     },
     "metadata": {},
     "output_type": "display_data"
    }
   ],
   "source": [
    "import seaborn as sns\n",
    "\n",
    "df = df.dropna(subset=['AQI','AQI_Bucket'])\n",
    "\n",
    "sns.set(style=\"whitegrid\")\n",
    "\n",
    "plt.figure(figsize=(10, 6))\n",
    "sns.boxplot(x='AQI_Bucket', y='AQI', data=df, palette='Set2')\n",
    "\n",
    "plt.title('AQI Distribution by Bucket', fontsize=16)\n",
    "plt.xlabel('AQI Bucket', fontsize=12)\n",
    "plt.ylabel('AQI Value', fontsize=12)\n",
    "\n",
    "plt.tight_layout()\n",
    "plt.show()"
   ]
  },
  {
   "cell_type": "code",
   "execution_count": 25,
   "id": "f0c40788",
   "metadata": {},
   "outputs": [
    {
     "name": "stdout",
     "output_type": "stream",
     "text": [
      "Good: min=8.0, max=50.0\n",
      "Moderate: min=101.0, max=200.0\n",
      "Poor: min=201.0, max=300.0\n",
      "Satisfactory: min=51.0, max=100.0\n",
      "Severe: min=401.0, max=2049.0\n",
      "Very Poor: min=301.0, max=400.0\n"
     ]
    }
   ],
   "source": [
    "for bucket, group in df.groupby('AQI_Bucket'):\n",
    "    print(f\"{bucket}: min={group['AQI'].min()}, max={group['AQI'].max()}\")"
   ]
  },
  {
   "cell_type": "code",
   "execution_count": 26,
   "id": "924f81ac",
   "metadata": {},
   "outputs": [
    {
     "data": {
      "text/plain": [
       "(87025, 16)"
      ]
     },
     "execution_count": 26,
     "metadata": {},
     "output_type": "execute_result"
    }
   ],
   "source": [
    "df.shape"
   ]
  },
  {
   "cell_type": "code",
   "execution_count": null,
   "id": "b883521b",
   "metadata": {},
   "outputs": [],
   "source": []
  }
 ],
 "metadata": {
  "kernelspec": {
   "display_name": "base",
   "language": "python",
   "name": "python3"
  },
  "language_info": {
   "codemirror_mode": {
    "name": "ipython",
    "version": 3
   },
   "file_extension": ".py",
   "mimetype": "text/x-python",
   "name": "python",
   "nbconvert_exporter": "python",
   "pygments_lexer": "ipython3",
   "version": "3.13.5"
  }
 },
 "nbformat": 4,
 "nbformat_minor": 5
}
